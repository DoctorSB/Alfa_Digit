{
 "cells": [
  {
   "cell_type": "code",
   "execution_count": 1,
   "metadata": {},
   "outputs": [],
   "source": [
    "import pandas as pd\n",
    "import torch\n",
    "from torch.utils.data import DataLoader, TensorDataset\n",
    "from transformers import BertTokenizerFast, BertForSequenceClassification, AdamW\n",
    "from sklearn.preprocessing import LabelEncoder\n"
   ]
  },
  {
   "cell_type": "code",
   "execution_count": 2,
   "metadata": {},
   "outputs": [],
   "source": [
    "# Функция для кодирования предложений\n",
    "def encode_sentences(tokenizer, sentences, max_length):\n",
    "    input_ids, attention_masks = [], []\n",
    "    for sentence in sentences:\n",
    "        encoding = tokenizer.encode_plus(sentence, max_length=max_length, padding='max_length', truncation=True)\n",
    "        input_ids.append(encoding['input_ids'])\n",
    "        attention_masks.append(encoding['attention_mask'])\n",
    "    return torch.tensor(input_ids), torch.tensor(attention_masks)\n",
    "\n",
    "# Функция для подготовки датасета\n",
    "def prepare_dataset(sentences, labels, max_length):\n",
    "    tokenizer = BertTokenizerFast.from_pretrained('bert-base-multilingual-cased')\n",
    "    input_ids, attention_masks = encode_sentences(tokenizer, sentences, max_length)\n",
    "    le = LabelEncoder()\n",
    "    labels = le.fit_transform(labels)  # кодируем метки\n",
    "    labels = torch.tensor(labels)\n",
    "    return TensorDataset(input_ids, attention_masks, labels)\n"
   ]
  },
  {
   "cell_type": "code",
   "execution_count": 3,
   "metadata": {},
   "outputs": [
    {
     "ename": "AssertionError",
     "evalue": "Size mismatch between tensors",
     "output_type": "error",
     "traceback": [
      "\u001b[0;31m---------------------------------------------------------------------------\u001b[0m",
      "\u001b[0;31mAssertionError\u001b[0m                            Traceback (most recent call last)",
      "Cell \u001b[0;32mIn[3], line 9\u001b[0m\n\u001b[1;32m      7\u001b[0m train_dataset \u001b[39m=\u001b[39m prepare_dataset(train_df[\u001b[39m'\u001b[39m\u001b[39mname\u001b[39m\u001b[39m'\u001b[39m]\u001b[39m.\u001b[39mtolist(), train_df[\u001b[39m'\u001b[39m\u001b[39mgood\u001b[39m\u001b[39m'\u001b[39m]\u001b[39m.\u001b[39mtolist(), max_length)\n\u001b[1;32m      8\u001b[0m \u001b[39m# Так как valid_df не содержит 'good', мы можем использовать пустой список для меток\u001b[39;00m\n\u001b[0;32m----> 9\u001b[0m valid_dataset \u001b[39m=\u001b[39m prepare_dataset(valid_df[\u001b[39m'\u001b[39;49m\u001b[39mname\u001b[39;49m\u001b[39m'\u001b[39;49m]\u001b[39m.\u001b[39;49mtolist(), [], max_length)\n",
      "Cell \u001b[0;32mIn[2], line 17\u001b[0m, in \u001b[0;36mprepare_dataset\u001b[0;34m(sentences, labels, max_length)\u001b[0m\n\u001b[1;32m     15\u001b[0m labels \u001b[39m=\u001b[39m le\u001b[39m.\u001b[39mfit_transform(labels)  \u001b[39m# кодируем метки\u001b[39;00m\n\u001b[1;32m     16\u001b[0m labels \u001b[39m=\u001b[39m torch\u001b[39m.\u001b[39mtensor(labels)\n\u001b[0;32m---> 17\u001b[0m \u001b[39mreturn\u001b[39;00m TensorDataset(input_ids, attention_masks, labels)\n",
      "File \u001b[0;32m/opt/homebrew/lib/python3.11/site-packages/torch/utils/data/dataset.py:192\u001b[0m, in \u001b[0;36mTensorDataset.__init__\u001b[0;34m(self, *tensors)\u001b[0m\n\u001b[1;32m    191\u001b[0m \u001b[39mdef\u001b[39;00m \u001b[39m__init__\u001b[39m(\u001b[39mself\u001b[39m, \u001b[39m*\u001b[39mtensors: Tensor) \u001b[39m-\u001b[39m\u001b[39m>\u001b[39m \u001b[39mNone\u001b[39;00m:\n\u001b[0;32m--> 192\u001b[0m     \u001b[39massert\u001b[39;00m \u001b[39mall\u001b[39m(tensors[\u001b[39m0\u001b[39m]\u001b[39m.\u001b[39msize(\u001b[39m0\u001b[39m) \u001b[39m==\u001b[39m tensor\u001b[39m.\u001b[39msize(\u001b[39m0\u001b[39m) \u001b[39mfor\u001b[39;00m tensor \u001b[39min\u001b[39;00m tensors), \u001b[39m\"\u001b[39m\u001b[39mSize mismatch between tensors\u001b[39m\u001b[39m\"\u001b[39m\n\u001b[1;32m    193\u001b[0m     \u001b[39mself\u001b[39m\u001b[39m.\u001b[39mtensors \u001b[39m=\u001b[39m tensors\n",
      "\u001b[0;31mAssertionError\u001b[0m: Size mismatch between tensors"
     ]
    }
   ],
   "source": [
    "# Загрузка данных\n",
    "train_df = pd.read_csv('data/train_supervised_dataset.csv')\n",
    "valid_df = pd.read_csv('data/train_unsupervised_dataset.csv')\n",
    "\n",
    "# Преобразование датафреймов в датасеты\n",
    "max_length = 512  # или любое другое значение в зависимости от ваших потребностей\n",
    "train_dataset = prepare_dataset(train_df['name'].tolist(), train_df['good'].tolist(), max_length)\n",
    "# Так как valid_df не содержит 'good', мы можем использовать пустой список для меток\n",
    "valid_dataset = prepare_dataset(valid_df['name'].tolist(), [], max_length)\n"
   ]
  },
  {
   "cell_type": "code",
   "execution_count": null,
   "metadata": {},
   "outputs": [],
   "source": [
    "batch_size = 16\n",
    "train_loader = DataLoader(train_dataset, batch_size=batch_size, shuffle=True)\n",
    "valid_loader = DataLoader(valid_dataset, batch_size=batch_size, shuffle=False)\n"
   ]
  },
  {
   "cell_type": "code",
   "execution_count": null,
   "metadata": {},
   "outputs": [],
   "source": [
    "device = torch.device('cuda' if torch.cuda.is_available() else 'cpu')\n",
    "model = BertForSequenceClassification.from_pretrained('bert-base-multilingual-cased')\n",
    "model = model.to(device)\n",
    "optimizer = AdamW(model.parameters(), lr=1e-5)\n"
   ]
  },
  {
   "cell_type": "code",
   "execution_count": null,
   "metadata": {},
   "outputs": [],
   "source": [
    "model.train()\n",
    "for epoch in range(3):  # выберите подходящее количество эпох\n",
    "    for i, batch in enumerate(train_loader):\n",
    "        optimizer.zero_grad()\n",
    "        input_ids, attention_mask, labels = [item.to(device) for item in batch]\n",
    "        outputs = model(input_ids, attention_mask=attention_mask, labels=labels)\n",
    "        loss = outputs.loss\n",
    "        loss.backward()\n",
    "        optimizer.step()\n"
   ]
  }
 ],
 "metadata": {
  "kernelspec": {
   "display_name": "Python 3",
   "language": "python",
   "name": "python3"
  },
  "language_info": {
   "codemirror_mode": {
    "name": "ipython",
    "version": 3
   },
   "file_extension": ".py",
   "mimetype": "text/x-python",
   "name": "python",
   "nbconvert_exporter": "python",
   "pygments_lexer": "ipython3",
   "version": "3.11.3"
  },
  "orig_nbformat": 4
 },
 "nbformat": 4,
 "nbformat_minor": 2
}
