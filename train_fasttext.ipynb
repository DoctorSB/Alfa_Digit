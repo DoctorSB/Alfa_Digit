{
 "cells": [
  {
   "cell_type": "markdown",
   "source": [
    "# Обучение FastText\n",
    "\n",
    "В бейзлайне предполагается использовать векторы из библиотеки FastText, которые в данном ноутбуке обучатся на домен чеков"
   ],
   "metadata": {
    "collapsed": false
   }
  },
  {
   "cell_type": "code",
   "execution_count": 1,
   "id": "0025de88",
   "metadata": {
    "ExecuteTime": {
     "end_time": "2023-06-08T10:20:03.393807600Z",
     "start_time": "2023-06-08T10:20:02.596348500Z"
    }
   },
   "outputs": [],
   "source": [
    "from gensim.models.fasttext import FastText\n",
    "import pandas as pd"
   ]
  },
  {
   "cell_type": "markdown",
   "source": [
    "Выгрузим все чеки из размеченного датасета для обучения, а также из тестового датасета"
   ],
   "metadata": {
    "collapsed": false
   }
  },
  {
   "cell_type": "code",
   "execution_count": 2,
   "id": "066858b0",
   "metadata": {
    "ExecuteTime": {
     "end_time": "2023-06-08T10:20:03.493889400Z",
     "start_time": "2023-06-08T10:20:03.396902400Z"
    }
   },
   "outputs": [
    {
     "data": {
      "text/plain": "                                                 name      id\n0             Petmax Бантик леопард с красн розой 2шт     NaN\n1                    87191 Бусы для елки шарики_87191     NaN\n2                  Футболка Piazza Italia WR011446881     NaN\n3      7) YI572-03X-ONE ЗАКОЛКА ДЛЯ ВОЛОС ДЛЯ ДЕВОЧКИ     NaN\n4                                   Одежда (вес) 1500     NaN\n...                                               ...     ...\n29995                     774352 Рамка 2П., сл. кость  4995.0\n29996                   Энерг. напиток Red Bull 0.25л  4996.0\n29997               36/025 Наконечники (т. никель) шт  4997.0\n29998     Шоколад РиттерСпорт мол.с цел.миндалем 100г  4998.0\n29999                      00264242 Опора шаровая L=R  4999.0\n\n[30000 rows x 2 columns]",
      "text/html": "<div>\n<style scoped>\n    .dataframe tbody tr th:only-of-type {\n        vertical-align: middle;\n    }\n\n    .dataframe tbody tr th {\n        vertical-align: top;\n    }\n\n    .dataframe thead th {\n        text-align: right;\n    }\n</style>\n<table border=\"1\" class=\"dataframe\">\n  <thead>\n    <tr style=\"text-align: right;\">\n      <th></th>\n      <th>name</th>\n      <th>id</th>\n    </tr>\n  </thead>\n  <tbody>\n    <tr>\n      <th>0</th>\n      <td>Petmax Бантик леопард с красн розой 2шт</td>\n      <td>NaN</td>\n    </tr>\n    <tr>\n      <th>1</th>\n      <td>87191 Бусы для елки шарики_87191</td>\n      <td>NaN</td>\n    </tr>\n    <tr>\n      <th>2</th>\n      <td>Футболка Piazza Italia WR011446881</td>\n      <td>NaN</td>\n    </tr>\n    <tr>\n      <th>3</th>\n      <td>7) YI572-03X-ONE ЗАКОЛКА ДЛЯ ВОЛОС ДЛЯ ДЕВОЧКИ</td>\n      <td>NaN</td>\n    </tr>\n    <tr>\n      <th>4</th>\n      <td>Одежда (вес) 1500</td>\n      <td>NaN</td>\n    </tr>\n    <tr>\n      <th>...</th>\n      <td>...</td>\n      <td>...</td>\n    </tr>\n    <tr>\n      <th>29995</th>\n      <td>774352 Рамка 2П., сл. кость</td>\n      <td>4995.0</td>\n    </tr>\n    <tr>\n      <th>29996</th>\n      <td>Энерг. напиток Red Bull 0.25л</td>\n      <td>4996.0</td>\n    </tr>\n    <tr>\n      <th>29997</th>\n      <td>36/025 Наконечники (т. никель) шт</td>\n      <td>4997.0</td>\n    </tr>\n    <tr>\n      <th>29998</th>\n      <td>Шоколад РиттерСпорт мол.с цел.миндалем 100г</td>\n      <td>4998.0</td>\n    </tr>\n    <tr>\n      <th>29999</th>\n      <td>00264242 Опора шаровая L=R</td>\n      <td>4999.0</td>\n    </tr>\n  </tbody>\n</table>\n<p>30000 rows × 2 columns</p>\n</div>"
     },
     "execution_count": 2,
     "metadata": {},
     "output_type": "execute_result"
    }
   ],
   "source": [
    "train_df = pd.read_csv(\"train_supervised_dataset.csv\").fillna(\"\")\n",
    "test_df = pd.read_csv(\"test_dataset.csv\")\n",
    "names = pd.concat((train_df[[\"name\"]], test_df)).reset_index(drop=True)\n",
    "names"
   ]
  },
  {
   "cell_type": "markdown",
   "source": [
    "В качестве предобработки приведем все к нижнему регистру\n",
    "Токенизируем по пробельным символам"
   ],
   "metadata": {
    "collapsed": false
   }
  },
  {
   "cell_type": "code",
   "execution_count": 3,
   "id": "2dddc22e",
   "metadata": {
    "ExecuteTime": {
     "end_time": "2023-06-08T10:20:03.638597600Z",
     "start_time": "2023-06-08T10:20:03.495407300Z"
    }
   },
   "outputs": [
    {
     "data": {
      "text/plain": "                                                 name      id  \\\n0             Petmax Бантик леопард с красн розой 2шт     NaN   \n1                    87191 Бусы для елки шарики_87191     NaN   \n2                  Футболка Piazza Italia WR011446881     NaN   \n3      7) YI572-03X-ONE ЗАКОЛКА ДЛЯ ВОЛОС ДЛЯ ДЕВОЧКИ     NaN   \n4                                   Одежда (вес) 1500     NaN   \n...                                               ...     ...   \n29995                     774352 Рамка 2П., сл. кость  4995.0   \n29996                   Энерг. напиток Red Bull 0.25л  4996.0   \n29997               36/025 Наконечники (т. никель) шт  4997.0   \n29998     Шоколад РиттерСпорт мол.с цел.миндалем 100г  4998.0   \n29999                      00264242 Опора шаровая L=R  4999.0   \n\n                                                  tokens  \n0        [petmax, бантик, леопард, с, красн, розой, 2шт]  \n1                 [87191, бусы, для, елки, шарики_87191]  \n2                [футболка, piazza, italia, wr011446881]  \n3      [7), yi572-03x-one, заколка, для, волос, для, ...  \n4                                  [одежда, (вес), 1500]  \n...                                                  ...  \n29995                  [774352, рамка, 2п.,, сл., кость]  \n29996                [энерг., напиток, red, bull, 0.25л]  \n29997            [36/025, наконечники, (т., никель), шт]  \n29998  [шоколад, риттерспорт, мол.с, цел.миндалем, 100г]  \n29999                    [00264242, опора, шаровая, l=r]  \n\n[30000 rows x 3 columns]",
      "text/html": "<div>\n<style scoped>\n    .dataframe tbody tr th:only-of-type {\n        vertical-align: middle;\n    }\n\n    .dataframe tbody tr th {\n        vertical-align: top;\n    }\n\n    .dataframe thead th {\n        text-align: right;\n    }\n</style>\n<table border=\"1\" class=\"dataframe\">\n  <thead>\n    <tr style=\"text-align: right;\">\n      <th></th>\n      <th>name</th>\n      <th>id</th>\n      <th>tokens</th>\n    </tr>\n  </thead>\n  <tbody>\n    <tr>\n      <th>0</th>\n      <td>Petmax Бантик леопард с красн розой 2шт</td>\n      <td>NaN</td>\n      <td>[petmax, бантик, леопард, с, красн, розой, 2шт]</td>\n    </tr>\n    <tr>\n      <th>1</th>\n      <td>87191 Бусы для елки шарики_87191</td>\n      <td>NaN</td>\n      <td>[87191, бусы, для, елки, шарики_87191]</td>\n    </tr>\n    <tr>\n      <th>2</th>\n      <td>Футболка Piazza Italia WR011446881</td>\n      <td>NaN</td>\n      <td>[футболка, piazza, italia, wr011446881]</td>\n    </tr>\n    <tr>\n      <th>3</th>\n      <td>7) YI572-03X-ONE ЗАКОЛКА ДЛЯ ВОЛОС ДЛЯ ДЕВОЧКИ</td>\n      <td>NaN</td>\n      <td>[7), yi572-03x-one, заколка, для, волос, для, ...</td>\n    </tr>\n    <tr>\n      <th>4</th>\n      <td>Одежда (вес) 1500</td>\n      <td>NaN</td>\n      <td>[одежда, (вес), 1500]</td>\n    </tr>\n    <tr>\n      <th>...</th>\n      <td>...</td>\n      <td>...</td>\n      <td>...</td>\n    </tr>\n    <tr>\n      <th>29995</th>\n      <td>774352 Рамка 2П., сл. кость</td>\n      <td>4995.0</td>\n      <td>[774352, рамка, 2п.,, сл., кость]</td>\n    </tr>\n    <tr>\n      <th>29996</th>\n      <td>Энерг. напиток Red Bull 0.25л</td>\n      <td>4996.0</td>\n      <td>[энерг., напиток, red, bull, 0.25л]</td>\n    </tr>\n    <tr>\n      <th>29997</th>\n      <td>36/025 Наконечники (т. никель) шт</td>\n      <td>4997.0</td>\n      <td>[36/025, наконечники, (т., никель), шт]</td>\n    </tr>\n    <tr>\n      <th>29998</th>\n      <td>Шоколад РиттерСпорт мол.с цел.миндалем 100г</td>\n      <td>4998.0</td>\n      <td>[шоколад, риттерспорт, мол.с, цел.миндалем, 100г]</td>\n    </tr>\n    <tr>\n      <th>29999</th>\n      <td>00264242 Опора шаровая L=R</td>\n      <td>4999.0</td>\n      <td>[00264242, опора, шаровая, l=r]</td>\n    </tr>\n  </tbody>\n</table>\n<p>30000 rows × 3 columns</p>\n</div>"
     },
     "execution_count": 3,
     "metadata": {},
     "output_type": "execute_result"
    }
   ],
   "source": [
    "names[\"tokens\"] = names[\"name\"].str.lower().str.split()\n",
    "names"
   ]
  },
  {
   "cell_type": "markdown",
   "source": [
    "Обученные векторы положим в файл `fasttext.model` для использования в моделях"
   ],
   "metadata": {
    "collapsed": false
   }
  },
  {
   "cell_type": "code",
   "execution_count": 4,
   "id": "bca4fbe1",
   "metadata": {
    "ExecuteTime": {
     "end_time": "2023-06-08T10:20:11.978458900Z",
     "start_time": "2023-06-08T10:20:03.668319100Z"
    }
   },
   "outputs": [],
   "source": [
    "FastText(names[\"tokens\"], vector_size=300).save(\"fasttext.model\")"
   ]
  }
 ],
 "metadata": {
  "kernelspec": {
   "display_name": "Python 3 (ipykernel)",
   "language": "python",
   "name": "python3"
  },
  "language_info": {
   "codemirror_mode": {
    "name": "ipython",
    "version": 3
   },
   "file_extension": ".py",
   "mimetype": "text/x-python",
   "name": "python",
   "nbconvert_exporter": "python",
   "pygments_lexer": "ipython3",
   "version": "3.10.11"
  }
 },
 "nbformat": 4,
 "nbformat_minor": 5
}
